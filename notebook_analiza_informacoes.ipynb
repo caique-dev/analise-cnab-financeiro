{
 "cells": [
  {
   "cell_type": "code",
   "execution_count": 1,
   "metadata": {},
   "outputs": [],
   "source": [
    "import pandas as pd\n",
    "import matplotlib.pyplot as plt\n",
    "import datetime as dt"
   ]
  },
  {
   "cell_type": "code",
   "execution_count": 2,
   "metadata": {},
   "outputs": [],
   "source": [
    "# campos do df: cnpj_cpf tipo_pessoa nome  valor_titulo  taxa_cessao  vencimento  dias_ate_venc  valor_aquisicao  uf\n",
    "# gerando dataframe com as informacoes extraidas\n",
    "df = pd.read_csv('infos_extraidas.csv')\n",
    "\n",
    "# removendo aspas desnecessarias\n",
    "df['cnpj_cpf'] = df['cnpj_cpf'].astype(str).str.strip(\"'\")"
   ]
  },
  {
   "cell_type": "code",
   "execution_count": 3,
   "metadata": {},
   "outputs": [
    {
     "name": "stdout",
     "output_type": "stream",
     "text": [
      "0    10161543989663\n",
      "1    25385033347321\n",
      "2    19075432891605\n",
      "3    00074218309280\n",
      "4    81536337073518\n",
      "Name: cnpj_cpf, dtype: object\n"
     ]
    }
   ],
   "source": [
    "print(df.cnpj_cpf.head())"
   ]
  },
  {
   "cell_type": "markdown",
   "metadata": {},
   "source": [
    "## Calculando o Valor Total de Aquisição da Cessão "
   ]
  },
  {
   "cell_type": "code",
   "execution_count": 4,
   "metadata": {},
   "outputs": [
    {
     "name": "stdout",
     "output_type": "stream",
     "text": [
      "         cnpj_cpf tipo_pessoa                           nome  valor_titulo  \\\n",
      "0  10161543989663          PJ   PlanaltoAgroEnergia Solucoes     880119.39   \n",
      "1  25385033347321          PJ   AgroGrowthVerde Agropecuaria     720141.07   \n",
      "2  19075432891605          PJ     AgriAgri Gestao Rural S.A.     669247.60   \n",
      "3  00074218309280          PJ  AgriNovaAgroDynamic Exportaca     438057.64   \n",
      "4  81536337073518          PJ  AgroMasterAgroBio Empreendime     406004.54   \n",
      "\n",
      "   taxa_cessao  vencimento  dias_ate_venc  valor_aquisicao  uf  \n",
      "0       27.001  2026-04-02            356     32617.280880  GO  \n",
      "1       27.000  2025-12-08            241     77379.456563  SP  \n",
      "2       27.001  2025-10-30            202    103171.957019  RS  \n",
      "3       27.001  2026-06-18            433      7959.816991  MS  \n",
      "4       27.000  2027-02-06            666       853.667076  MT  \n"
     ]
    }
   ],
   "source": [
    "print(df.head())"
   ]
  },
  {
   "cell_type": "code",
   "execution_count": 5,
   "metadata": {},
   "outputs": [
    {
     "name": "stdout",
     "output_type": "stream",
     "text": [
      "6472369.853313945\n"
     ]
    }
   ],
   "source": [
    "# calculando valor total de aquisicao da cessao \n",
    "VAL_TOTOAL = df['valor_aquisicao'].sum()\n",
    "print(VAL_TOTOAL)"
   ]
  },
  {
   "cell_type": "markdown",
   "metadata": {},
   "source": [
    "## Soma do Valor de Face dos 5 sacados com maior Volume "
   ]
  },
  {
   "cell_type": "code",
   "execution_count": 6,
   "metadata": {},
   "outputs": [],
   "source": [
    "# dividindo os grupos\n",
    "grupos = df.groupby('cnpj_cpf')"
   ]
  },
  {
   "cell_type": "code",
   "execution_count": 7,
   "metadata": {},
   "outputs": [],
   "source": [
    "df_volume_faces = df.drop_duplicates(subset='cnpj_cpf')[['cnpj_cpf', 'tipo_pessoa', 'uf', 'nome']]\n",
    "\n",
    "# Zera os valores\n",
    "df_volume_faces['volume_faces'] = 0\n",
    "\n",
    "# definindo o tipo certo para a coluna\n",
    "df_volume_faces['volume_faces'] = df_volume_faces['volume_faces'].astype('float')\n",
    "\n",
    "# Garante que os nomes de colunas estão limpos\n",
    "df_volume_faces.columns = df_volume_faces.columns.str.strip()"
   ]
  },
  {
   "cell_type": "code",
   "execution_count": 8,
   "metadata": {},
   "outputs": [
    {
     "name": "stdout",
     "output_type": "stream",
     "text": [
      "         cnpj_cpf tipo_pessoa  uf                           nome  volume_faces\n",
      "0  10161543989663          PJ  GO   PlanaltoAgroEnergia Solucoes           0.0\n",
      "1  25385033347321          PJ  SP   AgroGrowthVerde Agropecuaria           0.0\n",
      "2  19075432891605          PJ  RS     AgriAgri Gestao Rural S.A.           0.0\n",
      "3  00074218309280          PJ  MS  AgriNovaAgroDynamic Exportaca           0.0\n",
      "4  81536337073518          PJ  MT  AgroMasterAgroBio Empreendime           0.0\n"
     ]
    }
   ],
   "source": [
    "print(df_volume_faces.head())"
   ]
  },
  {
   "cell_type": "code",
   "execution_count": 9,
   "metadata": {},
   "outputs": [
    {
     "name": "stdout",
     "output_type": "stream",
     "text": [
      "0    10161543989663\n",
      "1    25385033347321\n",
      "2    19075432891605\n",
      "3    00074218309280\n",
      "4    81536337073518\n",
      "Name: cnpj_cpf, dtype: object\n",
      "0    0.0\n",
      "1    0.0\n",
      "2    0.0\n",
      "3    0.0\n",
      "4    0.0\n",
      "Name: volume_faces, dtype: float64\n"
     ]
    }
   ],
   "source": [
    "\n",
    "# verificando os tipo\n",
    "print(df_volume_faces.cnpj_cpf.head())\n",
    "print(df_volume_faces.volume_faces.head())"
   ]
  },
  {
   "cell_type": "code",
   "execution_count": 10,
   "metadata": {},
   "outputs": [],
   "source": [
    "# Define o índice como cnpj_cpf - remove essa coluna do df\n",
    "df_volume_faces.set_index('cnpj_cpf', inplace=True)"
   ]
  },
  {
   "cell_type": "code",
   "execution_count": 11,
   "metadata": {},
   "outputs": [
    {
     "name": "stdout",
     "output_type": "stream",
     "text": [
      "               tipo_pessoa  uf                           nome  volume_faces\n",
      "cnpj_cpf                                                                   \n",
      "10161543989663          PJ  GO   PlanaltoAgroEnergia Solucoes           0.0\n",
      "25385033347321          PJ  SP   AgroGrowthVerde Agropecuaria           0.0\n",
      "19075432891605          PJ  RS     AgriAgri Gestao Rural S.A.           0.0\n",
      "00074218309280          PJ  MS  AgriNovaAgroDynamic Exportaca           0.0\n",
      "81536337073518          PJ  MT  AgroMasterAgroBio Empreendime           0.0\n"
     ]
    }
   ],
   "source": [
    "print(df_volume_faces.head())"
   ]
  },
  {
   "cell_type": "code",
   "execution_count": 12,
   "metadata": {},
   "outputs": [
    {
     "name": "stdout",
     "output_type": "stream",
     "text": [
      "00000368738171 738575.42\n",
      "738575.42\n",
      "\n",
      "00000740851565 323506.85\n",
      "323506.85\n",
      "\n",
      "00012427295900 1061032.3599999999\n",
      "1061032.3599999999\n",
      "\n",
      "00012475032985 303551.31\n",
      "303551.31\n",
      "\n",
      "00016124851949 2728672.42\n",
      "2728672.42\n",
      "\n",
      "00017793870927 1786243.1600000001\n",
      "1786243.1600000001\n",
      "\n",
      "00020102514836 1091187.83\n",
      "1091187.83\n",
      "\n",
      "00029891154879 5523292.97\n",
      "5523292.97\n",
      "\n",
      "00033510296761 885715.62\n",
      "885715.62\n",
      "\n",
      "00035948838582 1476839.81\n",
      "1476839.81\n",
      "\n",
      "00038926328011 613795.68\n",
      "613795.68\n",
      "\n",
      "00042409214826 1160283.1\n",
      "1160283.1\n",
      "\n",
      "00044439057558 917127.42\n",
      "917127.42\n",
      "\n",
      "00048716835616 816409.57\n",
      "816409.57\n",
      "\n",
      "00056317523689 276148.84\n",
      "276148.84\n",
      "\n",
      "00057000944581 2832721.24\n",
      "2832721.24\n",
      "\n",
      "00061258546315 810016.9\n",
      "810016.9\n",
      "\n",
      "00061381615968 659412.71\n",
      "659412.71\n",
      "\n",
      "00070887415727 245240.02\n",
      "245240.02\n",
      "\n",
      "00074218309280 1303157.25\n",
      "1303157.25\n",
      "\n",
      "00097390280588 900246.25\n",
      "900246.25\n",
      "\n",
      "00578376876194 2130164.99\n",
      "2130164.99\n",
      "\n",
      "01061724348829 524367.37\n",
      "524367.37\n",
      "\n",
      "01897221085000 1045546.9199999999\n",
      "1045546.9199999999\n",
      "\n",
      "04337370325735 435283.86\n",
      "435283.86\n",
      "\n",
      "04757455956961 1182709.94\n",
      "1182709.94\n",
      "\n",
      "05025873901243 1929473.79\n",
      "1929473.79\n",
      "\n",
      "05991491033875 1778286.6099999999\n",
      "1778286.6099999999\n",
      "\n",
      "08656688928062 680541.35\n",
      "680541.35\n",
      "\n",
      "08840067191332 240268.29\n",
      "240268.29\n",
      "\n",
      "09217828097109 1233255.03\n",
      "1233255.03\n",
      "\n",
      "09340390467871 805886.52\n",
      "805886.52\n",
      "\n",
      "09882464653158 1484328.75\n",
      "1484328.75\n",
      "\n",
      "10161543989663 3364647.86\n",
      "3364647.86\n",
      "\n",
      "10624531801814 768881.87\n",
      "768881.87\n",
      "\n",
      "10741854022958 827842.3500000001\n",
      "827842.3500000001\n",
      "\n",
      "10939096877447 323182.77\n",
      "323182.77\n",
      "\n",
      "12430376268462 2016827.88\n",
      "2016827.88\n",
      "\n",
      "13285544783915 586247.8\n",
      "586247.8\n",
      "\n",
      "15645318384321 1011458.1399999999\n",
      "1011458.1399999999\n",
      "\n",
      "19075432891605 861274.88\n",
      "861274.88\n",
      "\n",
      "19265735948848 5705210.609999999\n",
      "5705210.609999999\n",
      "\n",
      "19694827917880 932898.6\n",
      "932898.6\n",
      "\n",
      "19853598428881 1030422.1100000001\n",
      "1030422.1100000001\n",
      "\n",
      "20696037754150 726811.06\n",
      "726811.06\n",
      "\n",
      "20773525278038 2432981.29\n",
      "2432981.29\n",
      "\n",
      "22142099635136 3327052.02\n",
      "3327052.02\n",
      "\n",
      "22601911461343 2162791.67\n",
      "2162791.67\n",
      "\n",
      "24375845716352 1782668.15\n",
      "1782668.15\n",
      "\n",
      "25385033347321 1868281.86\n",
      "1868281.86\n",
      "\n",
      "25999586620524 304687.58\n",
      "304687.58\n",
      "\n",
      "27331543974896 448011.29\n",
      "448011.29\n",
      "\n",
      "27555828207917 2234463.4499999997\n",
      "2234463.4499999997\n",
      "\n",
      "28972111036896 1708458.58\n",
      "1708458.58\n",
      "\n",
      "29155713403196 799930.63\n",
      "799930.63\n",
      "\n",
      "29688633602077 3465093.6199999996\n",
      "3465093.6199999996\n",
      "\n",
      "31233002788806 755959.72\n",
      "755959.72\n",
      "\n",
      "31623078325693 1902580.57\n",
      "1902580.57\n",
      "\n",
      "35515447493148 2323770.79\n",
      "2323770.79\n",
      "\n",
      "36699794512348 2508885.0700000003\n",
      "2508885.0700000003\n",
      "\n",
      "37277991676356 552211.35\n",
      "552211.35\n",
      "\n",
      "37934159943543 275622.79\n",
      "275622.79\n",
      "\n",
      "39811294868384 1209582.32\n",
      "1209582.32\n",
      "\n",
      "40262010689192 652764.67\n",
      "652764.67\n",
      "\n",
      "40491154959787 365395.78\n",
      "365395.78\n",
      "\n",
      "40786063228314 410599.42\n",
      "410599.42\n",
      "\n",
      "42525298980374 312148.21\n",
      "312148.21\n",
      "\n",
      "45089420464911 408652.75\n",
      "408652.75\n",
      "\n",
      "46003998275676 490301.78\n",
      "490301.78\n",
      "\n",
      "46209737685454 552609.29\n",
      "552609.29\n",
      "\n",
      "46936450792192 1128456.31\n",
      "1128456.31\n",
      "\n",
      "46937807744974 157059.79\n",
      "157059.79\n",
      "\n",
      "47050248976318 220771.27\n",
      "220771.27\n",
      "\n",
      "47189783876334 518101.74\n",
      "518101.74\n",
      "\n",
      "48693012095190 5367193.54\n",
      "5367193.54\n",
      "\n",
      "50483284005210 1068559.44\n",
      "1068559.44\n",
      "\n",
      "51227166488201 141480.58\n",
      "141480.58\n",
      "\n",
      "52568791486841 574402.53\n",
      "574402.53\n",
      "\n",
      "54379517555811 5283106.58\n",
      "5283106.58\n",
      "\n",
      "57212271944220 555580.22\n",
      "555580.22\n",
      "\n",
      "57518320136189 1248468.98\n",
      "1248468.98\n",
      "\n",
      "58533615361910 2552887.09\n",
      "2552887.09\n",
      "\n",
      "59209802093700 1543098.87\n",
      "1543098.87\n",
      "\n",
      "60032226952774 491476.66\n",
      "491476.66\n",
      "\n",
      "60824750619848 1368500.63\n",
      "1368500.63\n",
      "\n",
      "61516500369217 350141.80000000005\n",
      "350141.80000000005\n",
      "\n",
      "62248301374693 995712.15\n",
      "995712.15\n",
      "\n",
      "62870393567834 405690.1\n",
      "405690.1\n",
      "\n",
      "64516544704802 95340.41\n",
      "95340.41\n",
      "\n",
      "64750139832159 2348174.46\n",
      "2348174.46\n",
      "\n",
      "65530536941455 250971.87\n",
      "250971.87\n",
      "\n",
      "67610633834459 654540.17\n",
      "654540.17\n",
      "\n",
      "69291111715973 982874.22\n",
      "982874.22\n",
      "\n",
      "69655087820921 891241.16\n",
      "891241.16\n",
      "\n",
      "69672765848879 330068.96\n",
      "330068.96\n",
      "\n",
      "69847706464401 1959943.75\n",
      "1959943.75\n",
      "\n",
      "74542813101867 1112123.23\n",
      "1112123.23\n",
      "\n",
      "75551725010984 1597251.09\n",
      "1597251.09\n",
      "\n",
      "78313473934629 1099586.18\n",
      "1099586.18\n",
      "\n",
      "78318916245338 560978.65\n",
      "560978.65\n",
      "\n",
      "81258783661143 2206984.4\n",
      "2206984.4\n",
      "\n",
      "81314801259746 2233786.74\n",
      "2233786.74\n",
      "\n",
      "81536337073518 406004.54\n",
      "406004.54\n",
      "\n",
      "81588482033863 265695.9\n",
      "265695.9\n",
      "\n",
      "81705876011354 792910.73\n",
      "792910.73\n",
      "\n",
      "82133007731303 2425115.45\n",
      "2425115.45\n",
      "\n",
      "82797944483823 1842424.08\n",
      "1842424.08\n",
      "\n",
      "83829463261250 404101.26\n",
      "404101.26\n",
      "\n",
      "86459072041665 564454.42\n",
      "564454.42\n",
      "\n",
      "88926817645087 2253477.9699999997\n",
      "2253477.9699999997\n",
      "\n",
      "88971885548905 1862510.23\n",
      "1862510.23\n",
      "\n",
      "89585026594897 69118.11\n",
      "69118.11\n",
      "\n",
      "90758876222325 489188.92\n",
      "489188.92\n",
      "\n",
      "92466828386103 376105.95\n",
      "376105.95\n",
      "\n",
      "93268144520785 118295.4\n",
      "118295.4\n",
      "\n",
      "95687145121479 444291.76\n",
      "444291.76\n",
      "\n",
      "96240574535482 699759.24\n",
      "699759.24\n",
      "\n",
      "97490971385845 452474.0\n",
      "452474.0\n",
      "\n",
      "97734674636407 1369713.1800000002\n",
      "1369713.1800000002\n",
      "\n",
      "97895256210091 1822227.7000000002\n",
      "1822227.7000000002\n",
      "\n"
     ]
    }
   ],
   "source": [
    "# somando os valores de face de cada grupo(cada cpf/cnpj)\n",
    "for doc, gp in grupos:\n",
    "    soma = gp.valor_titulo.sum()\n",
    "    doc = doc.strip(\"'\")\n",
    "    print(doc, soma)\n",
    "    df_volume_faces.loc[doc, 'volume_faces'] = soma\n",
    "    print(df_volume_faces.loc[doc, 'volume_faces'])\n",
    "    print()"
   ]
  },
  {
   "cell_type": "code",
   "execution_count": 13,
   "metadata": {},
   "outputs": [
    {
     "name": "stdout",
     "output_type": "stream",
     "text": [
      "               tipo_pessoa  uf                           nome  volume_faces\n",
      "cnpj_cpf                                                                   \n",
      "10161543989663          PJ  GO   PlanaltoAgroEnergia Solucoes    3364647.86\n",
      "25385033347321          PJ  SP   AgroGrowthVerde Agropecuaria    1868281.86\n",
      "19075432891605          PJ  RS     AgriAgri Gestao Rural S.A.     861274.88\n",
      "00074218309280          PJ  MS  AgriNovaAgroDynamic Exportaca    1303157.25\n",
      "81536337073518          PJ  MT  AgroMasterAgroBio Empreendime     406004.54\n"
     ]
    }
   ],
   "source": [
    "print(df_volume_faces.head())"
   ]
  },
  {
   "cell_type": "code",
   "execution_count": 14,
   "metadata": {},
   "outputs": [],
   "source": [
    "# ordenando o df pelo valor da soma dos títulos\n",
    "TOP5_DEVEDORES = df_volume_faces.sort_values(by='volume_faces', ascending=False)\n"
   ]
  },
  {
   "cell_type": "code",
   "execution_count": 15,
   "metadata": {},
   "outputs": [
    {
     "name": "stdout",
     "output_type": "stream",
     "text": [
      "               tipo_pessoa  uf                           nome  volume_faces\n",
      "cnpj_cpf                                                                   \n",
      "19265735948848          PJ  SP  TerraCultivar Solucoes Rurais    5705210.61\n",
      "00029891154879          PF  PR                   Thiago Rocha    5523292.97\n",
      "48693012095190          PJ  RS  AgroDigitalAgroLeste Producao    5367193.54\n",
      "54379517555811          PJ  RS  AgroTransAgrolab Agropecuaria    5283106.58\n",
      "29688633602077          PJ  RS  AgroFusionAgroPrime Agronegoc    3465093.62\n"
     ]
    }
   ],
   "source": [
    "print(TOP5_DEVEDORES.head())"
   ]
  },
  {
   "cell_type": "code",
   "execution_count": 16,
   "metadata": {},
   "outputs": [],
   "source": [
    "# separando o top5\n",
    "row_slice = slice(0,5)\n",
    "TOP5_DEVEDORES = TOP5_DEVEDORES[row_slice]"
   ]
  },
  {
   "cell_type": "code",
   "execution_count": 17,
   "metadata": {},
   "outputs": [
    {
     "name": "stdout",
     "output_type": "stream",
     "text": [
      "               tipo_pessoa  uf                           nome  volume_faces\n",
      "cnpj_cpf                                                                   \n",
      "19265735948848          PJ  SP  TerraCultivar Solucoes Rurais    5705210.61\n",
      "00029891154879          PF  PR                   Thiago Rocha    5523292.97\n",
      "48693012095190          PJ  RS  AgroDigitalAgroLeste Producao    5367193.54\n",
      "54379517555811          PJ  RS  AgroTransAgrolab Agropecuaria    5283106.58\n",
      "29688633602077          PJ  RS  AgroFusionAgroPrime Agronegoc    3465093.62\n"
     ]
    }
   ],
   "source": [
    "print(TOP5_DEVEDORES.to_string())"
   ]
  },
  {
   "cell_type": "code",
   "execution_count": 18,
   "metadata": {},
   "outputs": [],
   "source": [
    "TOP5_DEVEDORES.to_clipboard()"
   ]
  },
  {
   "cell_type": "markdown",
   "metadata": {},
   "source": [
    "## Calculando Numero de Créditos de PJ e PF "
   ]
  },
  {
   "cell_type": "code",
   "execution_count": 19,
   "metadata": {},
   "outputs": [],
   "source": [
    "contagens = df['tipo_pessoa'].value_counts(dropna=False)"
   ]
  },
  {
   "cell_type": "code",
   "execution_count": 20,
   "metadata": {},
   "outputs": [
    {
     "name": "stdout",
     "output_type": "stream",
     "text": [
      "52 247\n"
     ]
    }
   ],
   "source": [
    "CREDITOS_PF = int(contagens['PF'])\n",
    "CREDITOS_PJ = int(contagens['PJ'])\n",
    "\n",
    "print(CREDITOS_PF, CREDITOS_PJ)"
   ]
  },
  {
   "cell_type": "markdown",
   "metadata": {},
   "source": [
    "## Calculando Ticket médio de PF e PJ "
   ]
  },
  {
   "cell_type": "code",
   "execution_count": 21,
   "metadata": {},
   "outputs": [],
   "source": [
    "grupos = df.groupby('tipo_pessoa')"
   ]
  },
  {
   "cell_type": "code",
   "execution_count": 22,
   "metadata": {},
   "outputs": [
    {
     "name": "stdout",
     "output_type": "stream",
     "text": [
      "498529.9743319838\n"
     ]
    }
   ],
   "source": [
    "numero_titulos_pj = grupos.size()['PJ']\n",
    "soma_faces_pj = grupos['valor_titulo'].sum()['PJ']\n",
    "\n",
    "TICKET_MEDIO_PJ = soma_faces_pj/numero_titulos_pj\n",
    "\n",
    "print(TICKET_MEDIO_PJ)"
   ]
  },
  {
   "cell_type": "code",
   "execution_count": 23,
   "metadata": {},
   "outputs": [
    {
     "name": "stdout",
     "output_type": "stream",
     "text": [
      "2368017.378076923\n"
     ]
    }
   ],
   "source": [
    "numero_titulos_pf = grupos.size()['PF']\n",
    "soma_faces_pf = grupos['valor_titulo'].sum()['PF']\n",
    "\n",
    "TICKET_MEDIO_PF = soma_faces_pj/numero_titulos_pf\n",
    "\n",
    "print(TICKET_MEDIO_PF)"
   ]
  },
  {
   "cell_type": "markdown",
   "metadata": {},
   "source": [
    "## Calculando Prazo médio de vencimento "
   ]
  },
  {
   "cell_type": "code",
   "execution_count": 24,
   "metadata": {},
   "outputs": [
    {
     "name": "stdout",
     "output_type": "stream",
     "text": [
      "426.8595317725752\n"
     ]
    }
   ],
   "source": [
    "PRAZO_MEDIO_GERAL = df['dias_ate_venc'].mean()\n",
    "print(PRAZO_MEDIO_GERAL)"
   ]
  },
  {
   "cell_type": "code",
   "execution_count": 25,
   "metadata": {},
   "outputs": [],
   "source": [
    "# Separando os grupos\n",
    "grupos = df.groupby('tipo_pessoa')"
   ]
  },
  {
   "cell_type": "code",
   "execution_count": 26,
   "metadata": {},
   "outputs": [
    {
     "name": "stdout",
     "output_type": "stream",
     "text": [
      "420.08097165991904\n"
     ]
    }
   ],
   "source": [
    "# dados sobre PJ\n",
    "PRAZO_MEDIO_PJ = grupos.get_group('PJ')['dias_ate_venc'].mean()\n",
    "print(PRAZO_MEDIO_PJ)\n"
   ]
  },
  {
   "cell_type": "code",
   "execution_count": 27,
   "metadata": {},
   "outputs": [
    {
     "name": "stdout",
     "output_type": "stream",
     "text": [
      "459.0576923076923\n"
     ]
    }
   ],
   "source": [
    "# dados sobre PF\n",
    "PRAZO_MEDIO_PF = grupos.get_group('PF')['dias_ate_venc'].mean()\n",
    "print(PRAZO_MEDIO_PF)\n"
   ]
  },
  {
   "cell_type": "markdown",
   "metadata": {},
   "source": [
    "## Plotando um gráfico do valor de aquisição pela data de vencimento dos créditos da cessão "
   ]
  },
  {
   "cell_type": "code",
   "execution_count": 28,
   "metadata": {},
   "outputs": [
    {
     "name": "stdout",
     "output_type": "stream",
     "text": [
      "cnpj_cpf           299\n",
      "tipo_pessoa        299\n",
      "nome               299\n",
      "valor_titulo       299\n",
      "taxa_cessao        299\n",
      "vencimento         299\n",
      "dias_ate_venc      299\n",
      "valor_aquisicao    299\n",
      "uf                 299\n",
      "dtype: int64\n"
     ]
    }
   ],
   "source": [
    "print(df.count())"
   ]
  },
  {
   "cell_type": "code",
   "execution_count": 29,
   "metadata": {},
   "outputs": [],
   "source": [
    "df_agrupado = df.groupby('vencimento')['valor_aquisicao'].sum().reset_index()\n"
   ]
  },
  {
   "cell_type": "code",
   "execution_count": 30,
   "metadata": {},
   "outputs": [
    {
     "name": "stdout",
     "output_type": "stream",
     "text": [
      "     vencimento  valor_aquisicao\n",
      "0    2025-10-06    294513.531219\n",
      "1    2025-10-08    105026.888517\n",
      "2    2025-10-09     64699.102349\n",
      "3    2025-10-10     17686.845878\n",
      "4    2025-10-14     47066.392548\n",
      "..          ...              ...\n",
      "224  2027-02-11       996.075933\n",
      "225  2027-02-12       928.772095\n",
      "226  2027-02-14      2617.599869\n",
      "227  2027-02-15       228.847698\n",
      "228  2027-02-16       598.300901\n",
      "\n",
      "[229 rows x 2 columns]\n"
     ]
    }
   ],
   "source": [
    "print(df_agrupado.sort_values(by='vencimento'))"
   ]
  },
  {
   "cell_type": "code",
   "execution_count": 31,
   "metadata": {},
   "outputs": [
    {
     "data": {
      "image/png": "[encoded data removed]",
      "text/plain": [
       "<Figure size 1600x600 with 1 Axes>"
      ]
     },
     "metadata": {},
     "output_type": "display_data"
    }
   ],
   "source": [
    "df_agrupado = df.groupby('vencimento')['valor_aquisicao'].sum().reset_index()\n",
    "df_agrupado = df_agrupado.sort_values('vencimento')\n",
    "df_agrupado['vencimento'] = pd.to_datetime(df_agrupado['vencimento'])  # se necessário\n",
    "df_agrupado['vencimento_str'] = df_agrupado['vencimento'].dt.strftime('%d/%m/%y')\n",
    "\n",
    "plt.figure(figsize=(16, 6))\n",
    "plt.plot(df_agrupado['vencimento_str'], df_agrupado['valor_aquisicao'], marker='o')\n",
    "plt.title('Valor de Aquisição por Data de Vencimento')\n",
    "plt.xlabel('Data de Vencimento')\n",
    "plt.xticks(fontsize=5)\n",
    "plt.ylabel('Valor de Aquisição (R$)')\n",
    "plt.xticks(rotation=90)\n",
    "plt.grid(True)\n",
    "plt.tight_layout()\n",
    "plt.show()"
   ]
  },
  {
   "cell_type": "code",
   "execution_count": 32,
   "metadata": {},
   "outputs": [
    {
     "name": "stdout",
     "output_type": "stream",
     "text": [
      "  vencimento  valor_aquisicao vencimento_str\n",
      "0 2025-10-06    294513.531219       06/10/25\n",
      "1 2025-10-08    105026.888517       08/10/25\n",
      "2 2025-10-09     64699.102349       09/10/25\n",
      "3 2025-10-10     17686.845878       10/10/25\n",
      "4 2025-10-14     47066.392548       14/10/25\n"
     ]
    }
   ],
   "source": [
    "print(df_agrupado.head())"
   ]
  },
  {
   "cell_type": "code",
   "execution_count": 33,
   "metadata": {},
   "outputs": [],
   "source": [
    "df_agrupado.to_csv('./mapa_interativo/dados_grafico.csv')"
   ]
  },
  {
   "cell_type": "markdown",
   "metadata": {},
   "source": [
    "## Coletando dados necessários para indicar a dispersão geográfica dos créditos"
   ]
  },
  {
   "cell_type": "code",
   "execution_count": 34,
   "metadata": {},
   "outputs": [],
   "source": [
    "n_creditos_uf = df.groupby('uf').size()\n",
    "df_agrupado_uf = df.groupby('uf')[['valor_titulo', 'valor_aquisicao']].sum().reset_index()\n",
    "df_agrupado_uf.columns = ['uf', 'valor_face', 'valor_aquisicao']\n",
    "df_agrupado_uf['valor_medio_face'] = df_agrupado_uf['valor_face'] / n_creditos_uf.values\n",
    "df_agrupado_uf['valor_medio_aquisicao'] = df_agrupado_uf['valor_aquisicao'] / n_creditos_uf.values\n",
    "df_agrupado_uf = df_agrupado_uf.merge(n_creditos_uf.rename('n_creditos'), on='uf')\n",
    "\n",
    "\n"
   ]
  },
  {
   "cell_type": "code",
   "execution_count": 35,
   "metadata": {},
   "outputs": [
    {
     "name": "stdout",
     "output_type": "stream",
     "text": [
      "   uf   valor_face  valor_aquisicao  valor_medio_face  valor_medio_aquisicao  n_creditos\n",
      "0  GO  24633137.84     1.068261e+06     464776.185660           20155.866749          53\n",
      "1  MS  21848314.74     9.011853e+05     508100.342791           20957.797681          43\n",
      "2  MT  24741461.04     1.190595e+06     466820.019623           22464.050137          53\n",
      "3  PR  23400130.11     1.057478e+06     487502.710625           22030.781637          48\n",
      "4  RS  27189594.72     1.119249e+06     554889.688163           22841.808149          49\n",
      "5  SP  26474284.69     1.135603e+06     499514.805472           21426.468683          53\n"
     ]
    }
   ],
   "source": [
    "print(df_agrupado_uf.to_string())"
   ]
  },
  {
   "cell_type": "code",
   "execution_count": 36,
   "metadata": {},
   "outputs": [
    {
     "name": "stdout",
     "output_type": "stream",
     "text": [
      "   uf  valor_face_max  valor_face_min  valor_aquisicao_max  \\\n",
      "0  GO       902886.86          917.15        102608.453803   \n",
      "1  MS      1200049.98        69118.11        105026.888517   \n",
      "2  MT       905163.29        63672.51        122916.275419   \n",
      "3  PR      1127817.30        70589.67        196138.654534   \n",
      "4  RS      1221803.29        25797.79        132323.850494   \n",
      "5  SP       940205.99        28482.22        137780.950847   \n",
      "\n",
      "   valor_aquisicao_min  \n",
      "0            14.776527  \n",
      "1           625.712606  \n",
      "2           623.452494  \n",
      "3           270.386911  \n",
      "4           514.180189  \n",
      "5           122.134153  \n"
     ]
    }
   ],
   "source": [
    "extremos = df.groupby('uf')[['valor_titulo', 'valor_aquisicao']].agg(['max', 'min']).reset_index()\n",
    "extremos.columns = ['uf', \n",
    "                    'valor_face_max', 'valor_face_min', \n",
    "                    'valor_aquisicao_max', 'valor_aquisicao_min']\n",
    "\n",
    "print(extremos)\n"
   ]
  },
  {
   "cell_type": "code",
   "execution_count": 37,
   "metadata": {},
   "outputs": [],
   "source": [
    "df_agrupado_uf = df_agrupado_uf.merge(extremos, on='uf')"
   ]
  },
  {
   "cell_type": "code",
   "execution_count": 38,
   "metadata": {},
   "outputs": [
    {
     "name": "stdout",
     "output_type": "stream",
     "text": [
      "   uf   valor_face  valor_aquisicao  valor_medio_face  valor_medio_aquisicao  n_creditos  valor_face_max  valor_face_min  valor_aquisicao_max  valor_aquisicao_min\n",
      "0  GO  24633137.84     1.068261e+06     464776.185660           20155.866749          53       902886.86          917.15        102608.453803            14.776527\n",
      "1  MS  21848314.74     9.011853e+05     508100.342791           20957.797681          43      1200049.98        69118.11        105026.888517           625.712606\n",
      "2  MT  24741461.04     1.190595e+06     466820.019623           22464.050137          53       905163.29        63672.51        122916.275419           623.452494\n",
      "3  PR  23400130.11     1.057478e+06     487502.710625           22030.781637          48      1127817.30        70589.67        196138.654534           270.386911\n",
      "4  RS  27189594.72     1.119249e+06     554889.688163           22841.808149          49      1221803.29        25797.79        132323.850494           514.180189\n",
      "5  SP  26474284.69     1.135603e+06     499514.805472           21426.468683          53       940205.99        28482.22        137780.950847           122.134153\n"
     ]
    }
   ],
   "source": [
    "print(df_agrupado_uf.to_string())"
   ]
  },
  {
   "cell_type": "code",
   "execution_count": 40,
   "metadata": {},
   "outputs": [],
   "source": [
    "df_agrupado_uf.to_csv('./mapa_interativo/dados_mapa_clean.csv')"
   ]
  }
 ],
 "metadata": {
  "kernelspec": {
   "display_name": "py_venv",
   "language": "python",
   "name": "python3"
  },
  "language_info": {
   "codemirror_mode": {
    "name": "ipython",
    "version": 3
   },
   "file_extension": ".py",
   "mimetype": "text/x-python",
   "name": "python",
   "nbconvert_exporter": "python",
   "pygments_lexer": "ipython3",
   "version": "3.12.3"
  }
 },
 "nbformat": 4,
 "nbformat_minor": 2
}
